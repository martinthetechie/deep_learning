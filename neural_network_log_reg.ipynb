{
  "nbformat": 4,
  "nbformat_minor": 0,
  "metadata": {
    "colab": {
      "provenance": [],
      "authorship_tag": "ABX9TyPC2LXJNhlGmlITITdsiua5",
      "include_colab_link": true
    },
    "kernelspec": {
      "name": "python3",
      "display_name": "Python 3"
    },
    "language_info": {
      "name": "python"
    }
  },
  "cells": [
    {
      "cell_type": "markdown",
      "metadata": {
        "id": "view-in-github",
        "colab_type": "text"
      },
      "source": [
        "<a href=\"https://colab.research.google.com/github/martinthetechie/deep_learning/blob/main/neural_network_log_reg.ipynb\" target=\"_parent\"><img src=\"https://colab.research.google.com/assets/colab-badge.svg\" alt=\"Open In Colab\"/></a>"
      ]
    },
    {
      "cell_type": "code",
      "execution_count": 5,
      "metadata": {
        "id": "eG9MmmpobssF"
      },
      "outputs": [],
      "source": [
        "import numpy as np\n",
        "import copy\n",
        "import matplotlib.pyplot as plt\n",
        "import h5py\n",
        "import scipy\n",
        "from PIL import Image\n",
        "from scipy import ndimage"
      ]
    },
    {
      "cell_type": "code",
      "source": [
        "# Loading the data (cat/non-cat)\n",
        "train_set_x_orig, train_set_y, test_set_x_orig, test_set_y, classes = load_dataset()"
      ],
      "metadata": {
        "colab": {
          "base_uri": "https://localhost:8080/",
          "height": 162
        },
        "id": "Iod0gi-dREMm",
        "outputId": "fd7dbfdf-c19e-4c3e-d4f0-39fc0d778dbd"
      },
      "execution_count": 6,
      "outputs": [
        {
          "output_type": "error",
          "ename": "NameError",
          "evalue": "name 'load_dataset' is not defined",
          "traceback": [
            "\u001b[0;31m---------------------------------------------------------------------------\u001b[0m",
            "\u001b[0;31mNameError\u001b[0m                                 Traceback (most recent call last)",
            "\u001b[0;32m<ipython-input-6-edd22496ab38>\u001b[0m in \u001b[0;36m<cell line: 2>\u001b[0;34m()\u001b[0m\n\u001b[1;32m      1\u001b[0m \u001b[0;31m# Loading the data (cat/non-cat)\u001b[0m\u001b[0;34m\u001b[0m\u001b[0;34m\u001b[0m\u001b[0m\n\u001b[0;32m----> 2\u001b[0;31m \u001b[0mtrain_set_x_orig\u001b[0m\u001b[0;34m,\u001b[0m \u001b[0mtrain_set_y\u001b[0m\u001b[0;34m,\u001b[0m \u001b[0mtest_set_x_orig\u001b[0m\u001b[0;34m,\u001b[0m \u001b[0mtest_set_y\u001b[0m\u001b[0;34m,\u001b[0m \u001b[0mclasses\u001b[0m \u001b[0;34m=\u001b[0m \u001b[0mload_dataset\u001b[0m\u001b[0;34m(\u001b[0m\u001b[0;34m)\u001b[0m\u001b[0;34m\u001b[0m\u001b[0;34m\u001b[0m\u001b[0m\n\u001b[0m",
            "\u001b[0;31mNameError\u001b[0m: name 'load_dataset' is not defined"
          ]
        }
      ]
    },
    {
      "cell_type": "code",
      "source": [
        "import numpy as np\n",
        "\n",
        "def sigmoid(z):\n",
        "    return 1 / (1 + np.exp(-z))\n",
        "\n",
        "def initialize_with_zeros(dim):\n",
        "    w = np.zeros((dim, 1))\n",
        "    b = 0\n",
        "    return w, b\n",
        "\n",
        "def propagate(w, b, X, Y):\n",
        "    m = X.shape[1]\n",
        "\n",
        "    # Forward propagation\n",
        "    A = sigmoid(np.dot(w.T, X) + b)  # Compute activation\n",
        "    cost = -np.sum(Y * np.log(A) + (1 - Y) * np.log(1 - A)) / m  # Compute cost\n",
        "\n",
        "    # Backward propagation\n",
        "    dw = np.dot(X, (A - Y).T) / m\n",
        "    db = np.sum(A - Y) / m\n",
        "\n",
        "    grads = {\"dw\": dw, \"db\": db}\n",
        "    return grads, cost\n",
        "\n",
        "def optimize(w, b, X, Y, num_iterations, learning_rate, print_cost=False):\n",
        "    costs = []\n",
        "\n",
        "    for i in range(num_iterations):\n",
        "        grads, cost = propagate(w, b, X, Y)\n",
        "\n",
        "        # Retrieve derivatives from grads\n",
        "        dw = grads[\"dw\"]\n",
        "        db = grads[\"db\"]\n",
        "\n",
        "        # Update parameters\n",
        "        w = w - learning_rate * dw\n",
        "        b = b - learning_rate * db\n",
        "\n",
        "        if i % 100 == 0:\n",
        "            costs.append(cost)\n",
        "            if print_cost:\n",
        "                print(f\"Cost after iteration {i}: {cost}\")\n",
        "\n",
        "    params = {\"w\": w, \"b\": b}\n",
        "    grads = {\"dw\": dw, \"db\": db}\n",
        "\n",
        "    return params, grads, costs\n",
        "\n",
        "def predict(w, b, X):\n",
        "    m = X.shape[1]\n",
        "    Y_prediction = np.zeros((1, m))\n",
        "    A = sigmoid(np.dot(w.T, X) + b)\n",
        "\n",
        "    for i in range(A.shape[1]):\n",
        "        Y_prediction[0, i] = 1 if A[0, i] > 0.5 else 0\n",
        "\n",
        "    return Y_prediction\n",
        "\n",
        "def model(X_train, Y_train, X_test, Y_test, num_iterations=2000, learning_rate=0.5, print_cost=False):\n",
        "    \"\"\"\n",
        "    Builds the logistic regression model by calling the function you've implemented previously.\n",
        "    \"\"\"\n",
        "\n",
        "    # Initialize parameters with zeros\n",
        "    dim = X_train.shape[0]\n",
        "    w, b = initialize_with_zeros(dim)\n",
        "\n",
        "    # Gradient descent\n",
        "    params, grads, costs = optimize(w, b, X_train, Y_train, num_iterations, learning_rate, print_cost)\n",
        "\n",
        "    # Retrieve parameters w and b from dictionary \"params\"\n",
        "    w = params[\"w\"]\n",
        "    b = params[\"b\"]\n",
        "\n",
        "    # Predict test/train set examples\n",
        "    Y_prediction_train = predict(w, b, X_train)\n",
        "    Y_prediction_test = predict(w, b, X_test)\n",
        "\n",
        "    # Print train/test Errors\n",
        "    if print_cost:\n",
        "        print(\"train accuracy: {} %\".format(100 - np.mean(np.abs(Y_prediction_train - Y_train)) * 100))\n",
        "        print(\"test accuracy: {} %\".format(100 - np.mean(np.abs(Y_prediction_test - Y_test)) * 100))\n",
        "\n",
        "    d = {\"costs\": costs,\n",
        "         \"Y_prediction_test\": Y_prediction_test,\n",
        "         \"Y_prediction_train\": Y_prediction_train,\n",
        "         \"w\": w,\n",
        "         \"b\": b,\n",
        "         \"learning_rate\": learning_rate,\n",
        "         \"num_iterations\": num_iterations}\n",
        "\n",
        "    return d\n",
        "\n",
        "# Example usage\n",
        "X_train = np.array([[1, 2, 3], [4, 5, 6]])\n",
        "Y_train = np.array([[1, 0, 1]])\n",
        "X_test = np.array([[1, 2], [4, 5]])\n",
        "Y_test = np.array([[1, 0]])\n",
        "\n",
        "d = model(X_train, Y_train, X_test, Y_test, num_iterations=1000, learning_rate=0.01, print_cost=True)\n"
      ],
      "metadata": {
        "colab": {
          "base_uri": "https://localhost:8080/"
        },
        "id": "TAOFOMgdT8_F",
        "outputId": "9d01ab4f-a5f4-4e33-99dd-1036d295bf05"
      },
      "execution_count": 7,
      "outputs": [
        {
          "output_type": "stream",
          "name": "stdout",
          "text": [
            "Cost after iteration 0: 0.6931471805599453\n",
            "Cost after iteration 100: 0.6382299714042772\n",
            "Cost after iteration 200: 0.6380572671878572\n",
            "Cost after iteration 300: 0.6379020365264975\n",
            "Cost after iteration 400: 0.637762480310865\n",
            "Cost after iteration 500: 0.6376370088057275\n",
            "Cost after iteration 600: 0.6375241942295232\n",
            "Cost after iteration 700: 0.63742275420894\n",
            "Cost after iteration 800: 0.637331536919233\n",
            "Cost after iteration 900: 0.6372495077414233\n",
            "train accuracy: 66.66666666666667 %\n",
            "test accuracy: 50.0 %\n"
          ]
        }
      ]
    }
  ]
}