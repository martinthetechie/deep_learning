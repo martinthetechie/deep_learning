{
  "nbformat": 4,
  "nbformat_minor": 0,
  "metadata": {
    "colab": {
      "provenance": [],
      "authorship_tag": "ABX9TyNN8/wV3sIx+4jASJEM6c4J",
      "include_colab_link": true
    },
    "kernelspec": {
      "name": "python3",
      "display_name": "Python 3"
    },
    "language_info": {
      "name": "python"
    }
  },
  "cells": [
    {
      "cell_type": "markdown",
      "metadata": {
        "id": "view-in-github",
        "colab_type": "text"
      },
      "source": [
        "<a href=\"https://colab.research.google.com/github/martinthetechie/deep_learning/blob/main/neural_network_log_reg.ipynb\" target=\"_parent\"><img src=\"https://colab.research.google.com/assets/colab-badge.svg\" alt=\"Open In Colab\"/></a>"
      ]
    },
    {
      "cell_type": "code",
      "execution_count": 1,
      "metadata": {
        "id": "eG9MmmpobssF",
        "colab": {
          "base_uri": "https://localhost:8080/",
          "height": 375
        },
        "outputId": "88911a45-27a1-4520-abff-8ece3cf0fca8"
      },
      "outputs": [
        {
          "output_type": "error",
          "ename": "ModuleNotFoundError",
          "evalue": "No module named 'lr_utils'",
          "traceback": [
            "\u001b[0;31m---------------------------------------------------------------------------\u001b[0m",
            "\u001b[0;31mModuleNotFoundError\u001b[0m                       Traceback (most recent call last)",
            "\u001b[0;32m<ipython-input-1-37519be482de>\u001b[0m in \u001b[0;36m<cell line: 8>\u001b[0;34m()\u001b[0m\n\u001b[1;32m      6\u001b[0m \u001b[0;32mfrom\u001b[0m \u001b[0mPIL\u001b[0m \u001b[0;32mimport\u001b[0m \u001b[0mImage\u001b[0m\u001b[0;34m\u001b[0m\u001b[0;34m\u001b[0m\u001b[0m\n\u001b[1;32m      7\u001b[0m \u001b[0;32mfrom\u001b[0m \u001b[0mscipy\u001b[0m \u001b[0;32mimport\u001b[0m \u001b[0mndimage\u001b[0m\u001b[0;34m\u001b[0m\u001b[0;34m\u001b[0m\u001b[0m\n\u001b[0;32m----> 8\u001b[0;31m \u001b[0;32mfrom\u001b[0m \u001b[0mlr_utils\u001b[0m \u001b[0;32mimport\u001b[0m \u001b[0mload_dataset\u001b[0m\u001b[0;34m\u001b[0m\u001b[0;34m\u001b[0m\u001b[0m\n\u001b[0m\u001b[1;32m      9\u001b[0m \u001b[0;32mfrom\u001b[0m \u001b[0mpublic_tests\u001b[0m \u001b[0;32mimport\u001b[0m \u001b[0;34m*\u001b[0m\u001b[0;34m\u001b[0m\u001b[0;34m\u001b[0m\u001b[0m\n",
            "\u001b[0;31mModuleNotFoundError\u001b[0m: No module named 'lr_utils'",
            "",
            "\u001b[0;31m---------------------------------------------------------------------------\u001b[0;32m\nNOTE: If your import is failing due to a missing package, you can\nmanually install dependencies using either !pip or !apt.\n\nTo view examples of installing some common dependencies, click the\n\"Open Examples\" button below.\n\u001b[0;31m---------------------------------------------------------------------------\u001b[0m\n"
          ],
          "errorDetails": {
            "actions": [
              {
                "action": "open_url",
                "actionText": "Open Examples",
                "url": "/notebooks/snippets/importing_libraries.ipynb"
              }
            ]
          }
        }
      ],
      "source": [
        "import numpy as np\n",
        "import copy\n",
        "import matplotlib.pyplot as plt\n",
        "import h5py\n",
        "import scipy\n",
        "from PIL import Image\n",
        "from scipy import ndimage\n",
        "from lr_utils import load_dataset\n",
        "from public_tests import *"
      ]
    },
    {
      "cell_type": "code",
      "source": [
        "# Loading the data (cat/non-cat)\n",
        "train_set_x_orig, train_set_y, test_set_x_orig, test_set_y, classes = load_dataset()"
      ],
      "metadata": {
        "colab": {
          "base_uri": "https://localhost:8080/"
        },
        "id": "Iod0gi-dREMm",
        "outputId": "6812f550-0aeb-4ebf-d245-9d5c4c88d88a"
      },
      "execution_count": 3,
      "outputs": [
        {
          "output_type": "execute_result",
          "data": {
            "text/plain": [
              "array([[ 5,  5],\n",
              "       [ 5, 10]])"
            ]
          },
          "metadata": {},
          "execution_count": 3
        }
      ]
    },
    {
      "cell_type": "code",
      "source": [
        "import numpy as np\n",
        "\n",
        "def sigmoid(z):\n",
        "    return 1 / (1 + np.exp(-z))\n",
        "\n",
        "def initialize_with_zeros(dim):\n",
        "    w = np.zeros((dim, 1))\n",
        "    b = 0\n",
        "    return w, b\n",
        "\n",
        "def propagate(w, b, X, Y):\n",
        "    m = X.shape[1]\n",
        "\n",
        "    # Forward propagation\n",
        "    A = sigmoid(np.dot(w.T, X) + b)  # Compute activation\n",
        "    cost = -np.sum(Y * np.log(A) + (1 - Y) * np.log(1 - A)) / m  # Compute cost\n",
        "\n",
        "    # Backward propagation\n",
        "    dw = np.dot(X, (A - Y).T) / m\n",
        "    db = np.sum(A - Y) / m\n",
        "\n",
        "    grads = {\"dw\": dw, \"db\": db}\n",
        "    return grads, cost\n",
        "\n",
        "def optimize(w, b, X, Y, num_iterations, learning_rate, print_cost=False):\n",
        "    costs = []\n",
        "\n",
        "    for i in range(num_iterations):\n",
        "        grads, cost = propagate(w, b, X, Y)\n",
        "\n",
        "        # Retrieve derivatives from grads\n",
        "        dw = grads[\"dw\"]\n",
        "        db = grads[\"db\"]\n",
        "\n",
        "        # Update parameters\n",
        "        w = w - learning_rate * dw\n",
        "        b = b - learning_rate * db\n",
        "\n",
        "        if i % 100 == 0:\n",
        "            costs.append(cost)\n",
        "            if print_cost:\n",
        "                print(f\"Cost after iteration {i}: {cost}\")\n",
        "\n",
        "    params = {\"w\": w, \"b\": b}\n",
        "    grads = {\"dw\": dw, \"db\": db}\n",
        "\n",
        "    return params, grads, costs\n",
        "\n",
        "def predict(w, b, X):\n",
        "    m = X.shape[1]\n",
        "    Y_prediction = np.zeros((1, m))\n",
        "    A = sigmoid(np.dot(w.T, X) + b)\n",
        "\n",
        "    for i in range(A.shape[1]):\n",
        "        Y_prediction[0, i] = 1 if A[0, i] > 0.5 else 0\n",
        "\n",
        "    return Y_prediction\n",
        "\n",
        "def model(X_train, Y_train, X_test, Y_test, num_iterations=2000, learning_rate=0.5, print_cost=False):\n",
        "    \"\"\"\n",
        "    Builds the logistic regression model by calling the function you've implemented previously.\n",
        "    \"\"\"\n",
        "\n",
        "    # Initialize parameters with zeros\n",
        "    dim = X_train.shape[0]\n",
        "    w, b = initialize_with_zeros(dim)\n",
        "\n",
        "    # Gradient descent\n",
        "    params, grads, costs = optimize(w, b, X_train, Y_train, num_iterations, learning_rate, print_cost)\n",
        "\n",
        "    # Retrieve parameters w and b from dictionary \"params\"\n",
        "    w = params[\"w\"]\n",
        "    b = params[\"b\"]\n",
        "\n",
        "    # Predict test/train set examples\n",
        "    Y_prediction_train = predict(w, b, X_train)\n",
        "    Y_prediction_test = predict(w, b, X_test)\n",
        "\n",
        "    # Print train/test Errors\n",
        "    if print_cost:\n",
        "        print(\"train accuracy: {} %\".format(100 - np.mean(np.abs(Y_prediction_train - Y_train)) * 100))\n",
        "        print(\"test accuracy: {} %\".format(100 - np.mean(np.abs(Y_prediction_test - Y_test)) * 100))\n",
        "\n",
        "    d = {\"costs\": costs,\n",
        "         \"Y_prediction_test\": Y_prediction_test,\n",
        "         \"Y_prediction_train\": Y_prediction_train,\n",
        "         \"w\": w,\n",
        "         \"b\": b,\n",
        "         \"learning_rate\": learning_rate,\n",
        "         \"num_iterations\": num_iterations}\n",
        "\n",
        "    return d\n",
        "\n",
        "# Example usage\n",
        "X_train = np.array([[1, 2, 3], [4, 5, 6]])\n",
        "Y_train = np.array([[1, 0, 1]])\n",
        "X_test = np.array([[1, 2], [4, 5]])\n",
        "Y_test = np.array([[1, 0]])\n",
        "\n",
        "d = model(X_train, Y_train, X_test, Y_test, num_iterations=1000, learning_rate=0.01, print_cost=True)\n"
      ],
      "metadata": {
        "colab": {
          "base_uri": "https://localhost:8080/"
        },
        "id": "TAOFOMgdT8_F",
        "outputId": "a43153ae-9cef-4d45-c087-0256a4cd1e5f"
      },
      "execution_count": 3,
      "outputs": [
        {
          "output_type": "stream",
          "name": "stdout",
          "text": [
            "Cost after iteration 0: 0.6931471805599453\n",
            "Cost after iteration 100: 0.6382299714042772\n",
            "Cost after iteration 200: 0.6380572671878572\n",
            "Cost after iteration 300: 0.6379020365264975\n",
            "Cost after iteration 400: 0.637762480310865\n",
            "Cost after iteration 500: 0.6376370088057275\n",
            "Cost after iteration 600: 0.6375241942295232\n",
            "Cost after iteration 700: 0.63742275420894\n",
            "Cost after iteration 800: 0.637331536919233\n",
            "Cost after iteration 900: 0.6372495077414233\n",
            "train accuracy: 66.66666666666667 %\n",
            "test accuracy: 50.0 %\n"
          ]
        }
      ]
    },
    {
      "cell_type": "code",
      "source": [],
      "metadata": {
        "id": "LCw1MU0rzZ4b"
      },
      "execution_count": null,
      "outputs": []
    }
  ]
}