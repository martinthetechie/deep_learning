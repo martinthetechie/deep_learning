{
  "nbformat": 4,
  "nbformat_minor": 0,
  "metadata": {
    "colab": {
      "provenance": [],
      "authorship_tag": "ABX9TyNLmU7i/QoWkbr9zmZtUJh3",
      "include_colab_link": true
    },
    "kernelspec": {
      "name": "python3",
      "display_name": "Python 3"
    },
    "language_info": {
      "name": "python"
    }
  },
  "cells": [
    {
      "cell_type": "markdown",
      "metadata": {
        "id": "view-in-github",
        "colab_type": "text"
      },
      "source": [
        "<a href=\"https://colab.research.google.com/github/martinthetechie/deep_learning/blob/main/forward_prop.ipynb\" target=\"_parent\"><img src=\"https://colab.research.google.com/assets/colab-badge.svg\" alt=\"Open In Colab\"/></a>"
      ]
    },
    {
      "cell_type": "markdown",
      "source": [
        "# Basics of Neural Network"
      ],
      "metadata": {
        "id": "QsjGBnGp7bKO"
      }
    },
    {
      "cell_type": "markdown",
      "source": [
        "Neural network that takes two inputs, has one hidden layer with two nodes, and an output layer with one node."
      ],
      "metadata": {
        "id": "YYCdRDxZz53d"
      }
    },
    {
      "cell_type": "code",
      "execution_count": 37,
      "metadata": {
        "id": "u6OCVhZEsBxA"
      },
      "outputs": [],
      "source": [
        "import numpy as np"
      ]
    },
    {
      "cell_type": "code",
      "source": [
        "# Initialize weights and biases\n",
        "weights = np.round(np.random.uniform(size=6),decimals=2)\n",
        "biases =  np.round(np.random.uniform(size=3),decimals=2)"
      ],
      "metadata": {
        "id": "TJ7D5SyWsMkS"
      },
      "execution_count": 25,
      "outputs": []
    },
    {
      "cell_type": "code",
      "source": [
        "# Sanity Check\n",
        "print('Weights:',weights)\n",
        "print('Biases', biases)"
      ],
      "metadata": {
        "colab": {
          "base_uri": "https://localhost:8080/"
        },
        "id": "iTcAk9yxvCJm",
        "outputId": "1e1577b6-a17d-4717-e68a-cf7a05778016"
      },
      "execution_count": 26,
      "outputs": [
        {
          "output_type": "stream",
          "name": "stdout",
          "text": [
            "Weights: [0.08 0.43 0.79 0.9  0.38 0.7 ]\n",
            "Biases [0.03 0.68 0.72]\n"
          ]
        }
      ]
    },
    {
      "cell_type": "code",
      "source": [
        "# Provide a given input\n",
        "x_1 = 0.7\n",
        "x_2 = 0.93\n",
        "print('x1 is {} and x2 is {}'.format(x_1, x_2))"
      ],
      "metadata": {
        "colab": {
          "base_uri": "https://localhost:8080/"
        },
        "id": "aW8eozjdvGDQ",
        "outputId": "88ba8661-3204-40bf-b0de-a2a6f105f95b"
      },
      "execution_count": 27,
      "outputs": [
        {
          "output_type": "stream",
          "name": "stdout",
          "text": [
            "x1 is 0.7 and x2 is 0.93\n"
          ]
        }
      ]
    },
    {
      "cell_type": "code",
      "source": [
        "# Compute the weighted sum of the inputs z_1 at the inputs of the node\n",
        "z_11 = x_1 * weights[0]+ x_2 * weights[1] + biases[0]\n",
        "print('The weighted sum of the inputs at the first node in the hidden layer is {}'.format(z_1))"
      ],
      "metadata": {
        "colab": {
          "base_uri": "https://localhost:8080/"
        },
        "id": "rEXclHAovGqk",
        "outputId": "67f848a1-0137-4241-89a9-332c995dea1b"
      },
      "execution_count": 28,
      "outputs": [
        {
          "output_type": "stream",
          "name": "stdout",
          "text": [
            "The weighted sum of the inputs at the first node in the hidden layer is 1.2918\n"
          ]
        }
      ]
    },
    {
      "cell_type": "code",
      "source": [
        "# Compute the weighted sum of the inputs z_2 at the inputs of the node\n",
        "z_12 = x_1 * weights[2] + x_2 * weights[3] + biases[1]\n",
        "print('The weighted sum of the inputs at the second node in the hidden layer is {}'.format(z_2))"
      ],
      "metadata": {
        "colab": {
          "base_uri": "https://localhost:8080/"
        },
        "id": "GkZ4KMXFwWsg",
        "outputId": "dca89751-4401-4edd-aa05-9731f4445b48"
      },
      "execution_count": 29,
      "outputs": [
        {
          "output_type": "stream",
          "name": "stdout",
          "text": [
            "The weighted sum of the inputs at the second node in the hidden layer is 1.3803\n"
          ]
        }
      ]
    },
    {
      "cell_type": "markdown",
      "source": [
        "Next, assuming a sigmoid activation function, let's compute the activation of the first node,\n",
        ", in the hidden layer."
      ],
      "metadata": {
        "id": "8nw1kpfNxHS_"
      }
    },
    {
      "cell_type": "code",
      "source": [
        "a_11 = 1.0 / (1.0 + np.exp(-z_11))\n",
        "\n",
        "print('The activation of the first node in the hidden layer is {}'.format(np.around(a_11, decimals=4)))"
      ],
      "metadata": {
        "colab": {
          "base_uri": "https://localhost:8080/"
        },
        "id": "Gdq3ELjWw42S",
        "outputId": "fed97a5e-25e2-4939-e4ea-81cbe9e0bc05"
      },
      "execution_count": 30,
      "outputs": [
        {
          "output_type": "stream",
          "name": "stdout",
          "text": [
            "The activation of the first node in the hidden layer is 0.6191\n"
          ]
        }
      ]
    },
    {
      "cell_type": "code",
      "source": [
        "a_12 = 1.0 / (1.0 + np.exp(-z_12))\n",
        "\n",
        "print('The activation of the first node in the hidden layer is {}'.format(np.around(a_12, decimals=4)))"
      ],
      "metadata": {
        "colab": {
          "base_uri": "https://localhost:8080/"
        },
        "id": "KFIGN-vWxroN",
        "outputId": "10074f4e-4e6a-4578-a8ba-f9a173faa232"
      },
      "execution_count": 31,
      "outputs": [
        {
          "output_type": "stream",
          "name": "stdout",
          "text": [
            "The activation of the first node in the hidden layer is 0.888\n"
          ]
        }
      ]
    },
    {
      "cell_type": "markdown",
      "source": [
        "Now these activations will serve as the inputs to the output layer. So, let's compute the weighted sum of these inputs to the node in the output layer. Assign the value to z_2."
      ],
      "metadata": {
        "id": "D7juqhONySWN"
      }
    },
    {
      "cell_type": "code",
      "source": [
        "### type your answer here\n",
        "z_2 = a_11*weights[4] + a_12*weights[5] + biases[2]\n",
        "\n"
      ],
      "metadata": {
        "id": "Apuv0WO-xu5l"
      },
      "execution_count": 33,
      "outputs": []
    },
    {
      "cell_type": "code",
      "source": [
        "print('The weighted sum of the inputs at the node in the output layer is {}'.format(np.around(z_2, decimals=4)))"
      ],
      "metadata": {
        "colab": {
          "base_uri": "https://localhost:8080/"
        },
        "id": "DLyzsc_2yUVC",
        "outputId": "be52e0d4-7c50-4f8c-8976-3a7328fc55a9"
      },
      "execution_count": 34,
      "outputs": [
        {
          "output_type": "stream",
          "name": "stdout",
          "text": [
            "The weighted sum of the inputs at the node in the output layer is 1.5768\n"
          ]
        }
      ]
    },
    {
      "cell_type": "markdown",
      "source": [
        "Finally, let's compute the output of the network as the activation of the node in the output layer. Assign the value to **a_2**."
      ],
      "metadata": {
        "id": "Vft-EN8gzX1k"
      }
    },
    {
      "cell_type": "code",
      "source": [
        "a_2 = 1.0 / (1.0 + np.exp(-z_2))"
      ],
      "metadata": {
        "id": "Wlg5Ny7ayn2C"
      },
      "execution_count": 35,
      "outputs": []
    },
    {
      "cell_type": "code",
      "source": [
        "print('The output of the network for x1 = 0.5 and x2 = 0.85 is {}'.format(np.around(a_2, decimals=4)))"
      ],
      "metadata": {
        "colab": {
          "base_uri": "https://localhost:8080/"
        },
        "id": "RxvtVBjszbXV",
        "outputId": "c87d0718-937a-4709-c2a3-75516b689ca4"
      },
      "execution_count": 36,
      "outputs": [
        {
          "output_type": "stream",
          "name": "stdout",
          "text": [
            "The output of the network for x1 = 0.5 and x2 = 0.85 is 0.8288\n"
          ]
        }
      ]
    },
    {
      "cell_type": "markdown",
      "source": [
        "# General Neural Network"
      ],
      "metadata": {
        "id": "aLKKBA1S7hSX"
      }
    },
    {
      "cell_type": "markdown",
      "source": [
        " General neural network would take inputs, would have many hidden layers, each hidden layer having nodes, and would have an output layer.\n",
        "\n",
        " Basically would need to intialize\n",
        " 1. n - number of inputs\n",
        " 2. m - number of nodes in each hidden layer (list/array)\n",
        " 3. num_hidden_layer- number of hidden layers\n",
        " 4. num_output - number of nodes in output layer"
      ],
      "metadata": {
        "id": "JYD0eH3y7ZG8"
      }
    },
    {
      "cell_type": "code",
      "source": [
        "import numpy as np"
      ],
      "metadata": {
        "id": "hsby2J6uzduw"
      },
      "execution_count": 38,
      "outputs": []
    },
    {
      "cell_type": "markdown",
      "source": [
        "**1. Build a Neural Network initalization Function**"
      ],
      "metadata": {
        "id": "rNRGpRDpEKEz"
      }
    },
    {
      "cell_type": "markdown",
      "source": [],
      "metadata": {
        "id": "eKKsSMMd_uFz"
      }
    },
    {
      "cell_type": "code",
      "source": [
        "def initialize_network(num_inputs,num_hidden_layers, num_hidden_nodes, num_nodes_output):\n",
        "  num_nodes_previous = num_inputs # number of nodes in the previous layer\n",
        "  # Initialize network dictionary\n",
        "  network = {}\n",
        "\n",
        "  for layer in range(num_hidden_layers+1):\n",
        "    if layer == num_hidden_layers:\n",
        "      layer_name = 'output'\n",
        "      num_nodes = num_nodes_output\n",
        "    else:\n",
        "      layer_name='layer_{}'.format(layer+1)\n",
        "      num_nodes = num_hidden_nodes[layer]\n",
        "\n",
        "    # Initialize weights and biases for each neural network layer\n",
        "    network[layer_name] = {}\n",
        "    for node in range(num_nodes):\n",
        "      node_name = 'node_{}'.format(node+1)\n",
        "      network[layer_name][node_name] = {\n",
        "          'weights': np.around(np.random.uniform(size = num_nodes_previous),decimals=2),\n",
        "          'bias': np.around(np.random.uniform(size=1),decimals=2)\n",
        "      }\n",
        "    num_nodes_previous = num_nodes\n",
        "\n",
        "    return network\n",
        "\n",
        "\n"
      ],
      "metadata": {
        "id": "y1XszSAu8f3n"
      },
      "execution_count": 43,
      "outputs": []
    },
    {
      "cell_type": "markdown",
      "source": [
        "Use the initialize_network function to create a network that:\n",
        "- 5 inputs\n",
        "- Three hidden layers\n",
        "- 3 nodes in the first layer, 2 nodes in the second layer, and 3 nodes in the third layer [3,2,3]\n",
        "- 1 node in output layer\n",
        "\n",
        "Name of network: small_network"
      ],
      "metadata": {
        "id": "BWYptmB_Dh6e"
      }
    },
    {
      "cell_type": "code",
      "source": [
        "small_network = initialize_network(5,3,[3,2,3],1)\n",
        "small_network"
      ],
      "metadata": {
        "colab": {
          "base_uri": "https://localhost:8080/"
        },
        "id": "nl0RDxvHDiPa",
        "outputId": "8d5fc8cc-7744-4f6b-8343-01c3afee40f9"
      },
      "execution_count": 46,
      "outputs": [
        {
          "output_type": "execute_result",
          "data": {
            "text/plain": [
              "{'layer_1': {'node_1': {'weights': array([0.11, 0.29, 0.33, 0.98, 0.09]),\n",
              "   'bias': array([0.22])},\n",
              "  'node_2': {'weights': array([0.21, 0.19, 0.91, 0.7 , 0.03]),\n",
              "   'bias': array([0.5])},\n",
              "  'node_3': {'weights': array([0.87, 0.44, 0.19, 0.15, 0.21]),\n",
              "   'bias': array([0.12])}}}"
            ]
          },
          "metadata": {},
          "execution_count": 46
        }
      ]
    },
    {
      "cell_type": "markdown",
      "source": [
        "**2. Compute weighted sum at each node**"
      ],
      "metadata": {
        "id": "3oFvG_X8ECg9"
      }
    },
    {
      "cell_type": "code",
      "source": [
        "def compute_weighted_sum(inputs,weights,bias):\n",
        "  return np.sum(inputs*weights) + bias"
      ],
      "metadata": {
        "id": "n8odJpYPD23b"
      },
      "execution_count": 50,
      "outputs": []
    },
    {
      "cell_type": "code",
      "source": [
        "# Can now calculate the weighted sum of the first node in the first hidden layer\n",
        "inputs = np.around(np.random.uniform(size=5),decimals=2)\n",
        "weights = small_network['layer_1']['node_1']['weights']\n",
        "bias = small_network['layer_1']['node_1']['bias']\n",
        "weighted_sum = compute_weighted_sum(inputs,weights,bias)\n",
        "print('The weighted sum at the first node in the hidden layer is {}'.format(np.around(weighted_sum[0],decimals=4)))"
      ],
      "metadata": {
        "colab": {
          "base_uri": "https://localhost:8080/"
        },
        "id": "wyfbChG1GRaz",
        "outputId": "cceea4fd-8cc2-417a-e844-80bfb89a3f80"
      },
      "execution_count": 51,
      "outputs": [
        {
          "output_type": "stream",
          "name": "stdout",
          "text": [
            "The weighted sum at the first node in the hidden layer is 1.1846\n"
          ]
        }
      ]
    },
    {
      "cell_type": "markdown",
      "source": [
        "**3. Compute node activation**\n",
        "\n",
        "Output of each node is the non-linear transformation of the weighted\n"
      ],
      "metadata": {
        "id": "mo0HHALnHTnN"
      }
    },
    {
      "cell_type": "code",
      "source": [
        "def node_activation(weighted_sum):\n",
        "    return 1.0 / (1.0 + np.exp(-1 * weighted_sum))"
      ],
      "metadata": {
        "id": "SNW1b7xVHETj"
      },
      "execution_count": 52,
      "outputs": []
    },
    {
      "cell_type": "markdown",
      "source": [
        "Calculate the output of the first node of the first hidden layer"
      ],
      "metadata": {
        "id": "A_zBWXyyHyUS"
      }
    },
    {
      "cell_type": "code",
      "source": [
        "node_output = node_activation(weighted_sum)\n",
        "node_output"
      ],
      "metadata": {
        "colab": {
          "base_uri": "https://localhost:8080/"
        },
        "id": "XxzQsep7HvEf",
        "outputId": "fb2f6c88-0220-4b5b-ad62-51b15b72665b"
      },
      "execution_count": 53,
      "outputs": [
        {
          "output_type": "execute_result",
          "data": {
            "text/plain": [
              "array([0.76577389])"
            ]
          },
          "metadata": {},
          "execution_count": 53
        }
      ]
    },
    {
      "cell_type": "markdown",
      "source": [
        "**Forward Propagation**\n",
        "\n",
        "Function/method in which data flows through a neuron's layers in a neural network from the input layer to the output layer"
      ],
      "metadata": {
        "id": "pj3WLNteH7R4"
      }
    },
    {
      "cell_type": "code",
      "source": [
        "def forward_propagate(network,inputs):\n",
        "  layer_inputs = list(inputs) # start with input layer as input to the first hidden layer\n",
        "  for layer in network:\n",
        "    layer_data = network[layer]\n",
        "    layer_outputs = []\n",
        "    for layer_node in layer_data:\n",
        "      node_data = layer_data[layer_node]\n",
        "      # compute the weighted sum and output of each node\n",
        "      weighted_sum = compute_weighted_sum(layer_inputs, node_data['weights'], node_data['bias'])\n",
        "      node_output = node_activation(weighted_sum)\n",
        "      layer_outputs.append(np.around(node_output[0], decimals=4))\n",
        "\n",
        "    if layer != 'output':\n",
        "      print('The outputs of the nodes in hidden layer number {} is {}'.format(layer.split('_')[1], layer_outputs))\n",
        "    layer_inputs = layer_outputs\n",
        "    network_predictions = layer_outputs\n",
        "  return network_predictions\n"
      ],
      "metadata": {
        "id": "QFffHvW5IR-d"
      },
      "execution_count": 61,
      "outputs": []
    },
    {
      "cell_type": "code",
      "source": [
        "inputs = np.around(np.random.uniform(size=5), decimals=2)"
      ],
      "metadata": {
        "id": "8VjH07fiJ0N-"
      },
      "execution_count": 63,
      "outputs": []
    },
    {
      "cell_type": "code",
      "source": [
        "prediction = forward_propagate(small_network,inputs)\n",
        "prediction\n"
      ],
      "metadata": {
        "colab": {
          "base_uri": "https://localhost:8080/"
        },
        "id": "wABPXHYBH1gV",
        "outputId": "483b7953-8697-43fd-842e-bae8ce08bc2a"
      },
      "execution_count": 64,
      "outputs": [
        {
          "output_type": "stream",
          "name": "stdout",
          "text": [
            "The outputs of the nodes in hidden layer number 1 is [np.float64(0.7882), np.float64(0.8582), np.float64(0.7858)]\n"
          ]
        },
        {
          "output_type": "execute_result",
          "data": {
            "text/plain": [
              "[np.float64(0.7882), np.float64(0.8582), np.float64(0.7858)]"
            ]
          },
          "metadata": {},
          "execution_count": 64
        }
      ]
    },
    {
      "cell_type": "code",
      "source": [],
      "metadata": {
        "id": "avXjzSOYKRUR"
      },
      "execution_count": null,
      "outputs": []
    }
  ]
}